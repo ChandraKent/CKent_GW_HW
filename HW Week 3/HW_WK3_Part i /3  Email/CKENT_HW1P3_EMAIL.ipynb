{
 "cells": [
  {
   "cell_type": "markdown",
   "metadata": {},
   "source": [
    "# -*- coding: UTF-8 -*-\n",
    "\"\"\"Employee Email Script.\n",
    "\n",
    "This module allows us to create an email address using employee data from\n",
    "a csv file.\n",
    "\n",
    "Example:\n",
    "    $ python employee_email.py\n",
    "\n",
    "\"\"\"\n",
    "import os\n",
    "import csv\n",
    "\n",
    "filepath = os.path.join(\"Resources\", \"employees.csv\")\n",
    "\n",
    "new_employee_data = []\n",
    "\n",
    "# Read data into dictionary and create a new email field\n",
    "with open(filepath) as csvfile:\n",
    "    reader = csv.DictReader(csvfile)\n",
    "    for row in reader:\n",
    "        # YOUR CODE HERE\n",
    "        # Hint: You can use csv.DictReader\n",
    "        # This will require a little bit of independent research (by design)\n",
    "        # In the real world, you will encounter situations like this\n",
    "\n",
    "# Grab the filename from the original path\n",
    "_, filename = os.path.split(filepath)\n",
    "\n",
    "# Write updated data to csv file\n",
    "csvpath = os.path.join(\"output\", filename)\n",
    "with open(csvpath, \"w\") as csvfile:\n",
    "    # YOUR CODE HERE\n",
    "    # Hint: You can use csv.DictWriter"
   ]
  },
  {
   "cell_type": "code",
   "execution_count": 1,
   "metadata": {},
   "outputs": [],
   "source": [
    "import os\n",
    "import pandas as pd"
   ]
  },
  {
   "cell_type": "code",
   "execution_count": 2,
   "metadata": {},
   "outputs": [],
   "source": [
    "emp_data = \"resources/employees.csv\""
   ]
  },
  {
   "cell_type": "code",
   "execution_count": 3,
   "metadata": {},
   "outputs": [],
   "source": [
    "emp_data_df = pd.read_csv(emp_data)"
   ]
  },
  {
   "cell_type": "code",
   "execution_count": 4,
   "metadata": {},
   "outputs": [
    {
     "data": {
      "text/html": [
       "<div>\n",
       "<style scoped>\n",
       "    .dataframe tbody tr th:only-of-type {\n",
       "        vertical-align: middle;\n",
       "    }\n",
       "\n",
       "    .dataframe tbody tr th {\n",
       "        vertical-align: top;\n",
       "    }\n",
       "\n",
       "    .dataframe thead th {\n",
       "        text-align: right;\n",
       "    }\n",
       "</style>\n",
       "<table border=\"1\" class=\"dataframe\">\n",
       "  <thead>\n",
       "    <tr style=\"text-align: right;\">\n",
       "      <th></th>\n",
       "      <th>first_name</th>\n",
       "      <th>last_name</th>\n",
       "      <th>ssn</th>\n",
       "    </tr>\n",
       "  </thead>\n",
       "  <tbody>\n",
       "    <tr>\n",
       "      <th>0</th>\n",
       "      <td>Tina</td>\n",
       "      <td>Fleming</td>\n",
       "      <td>619-16-7988</td>\n",
       "    </tr>\n",
       "    <tr>\n",
       "      <th>1</th>\n",
       "      <td>Erica</td>\n",
       "      <td>Shah</td>\n",
       "      <td>164-51-7615</td>\n",
       "    </tr>\n",
       "    <tr>\n",
       "      <th>2</th>\n",
       "      <td>Paula</td>\n",
       "      <td>Ortiz</td>\n",
       "      <td>051-83-3290</td>\n",
       "    </tr>\n",
       "    <tr>\n",
       "      <th>3</th>\n",
       "      <td>James</td>\n",
       "      <td>Hendricks</td>\n",
       "      <td>776-83-2884</td>\n",
       "    </tr>\n",
       "    <tr>\n",
       "      <th>4</th>\n",
       "      <td>Lauren</td>\n",
       "      <td>King</td>\n",
       "      <td>197-94-2398</td>\n",
       "    </tr>\n",
       "  </tbody>\n",
       "</table>\n",
       "</div>"
      ],
      "text/plain": [
       "  first_name  last_name          ssn\n",
       "0       Tina    Fleming  619-16-7988\n",
       "1      Erica       Shah  164-51-7615\n",
       "2      Paula      Ortiz  051-83-3290\n",
       "3      James  Hendricks  776-83-2884\n",
       "4     Lauren       King  197-94-2398"
      ]
     },
     "execution_count": 4,
     "metadata": {},
     "output_type": "execute_result"
    }
   ],
   "source": [
    "emp_data_df.head()"
   ]
  },
  {
   "cell_type": "code",
   "execution_count": 5,
   "metadata": {},
   "outputs": [
    {
     "name": "stdout",
     "output_type": "stream",
     "text": [
      "0        Tina.Fleming@buzzkill.com\n",
      "1          Erica.Shah@buzzkill.com\n",
      "2         Paula.Ortiz@buzzkill.com\n",
      "3     James.Hendricks@buzzkill.com\n",
      "4         Lauren.King@buzzkill.com\n",
      "5         David.Cowan@buzzkill.com\n",
      "6       Andrew.Burton@buzzkill.com\n",
      "7        Julian.Baker@buzzkill.com\n",
      "8        Scott.Castro@buzzkill.com\n",
      "9     Billy.Rodriguez@buzzkill.com\n",
      "10    Darrell.Leblanc@buzzkill.com\n",
      "11      David.Hammond@buzzkill.com\n",
      "dtype: object\n"
     ]
    }
   ],
   "source": [
    "email= emp_data_df[\"first_name\"] + \".\" + emp_data_df[\"last_name\"] +\"@buzzkill.com\"\n",
    "print(email)"
   ]
  },
  {
   "cell_type": "code",
   "execution_count": 6,
   "metadata": {},
   "outputs": [
    {
     "name": "stdout",
     "output_type": "stream",
     "text": [
      "0        Tina.Fleming@buzzkill.com\n",
      "1          Erica.Shah@buzzkill.com\n",
      "2         Paula.Ortiz@buzzkill.com\n",
      "3     James.Hendricks@buzzkill.com\n",
      "4         Lauren.King@buzzkill.com\n",
      "5         David.Cowan@buzzkill.com\n",
      "6       Andrew.Burton@buzzkill.com\n",
      "7        Julian.Baker@buzzkill.com\n",
      "8        Scott.Castro@buzzkill.com\n",
      "9     Billy.Rodriguez@buzzkill.com\n",
      "10    Darrell.Leblanc@buzzkill.com\n",
      "11      David.Hammond@buzzkill.com\n",
      "dtype: object\n",
      "<class 'pandas.core.series.Series'>\n"
     ]
    }
   ],
   "source": [
    "email_series=pd.Series(email)\n",
    "print(email_series)\n",
    "print(type(email_series))\n"
   ]
  },
  {
   "cell_type": "code",
   "execution_count": 7,
   "metadata": {},
   "outputs": [
    {
     "data": {
      "text/html": [
       "<div>\n",
       "<style scoped>\n",
       "    .dataframe tbody tr th:only-of-type {\n",
       "        vertical-align: middle;\n",
       "    }\n",
       "\n",
       "    .dataframe tbody tr th {\n",
       "        vertical-align: top;\n",
       "    }\n",
       "\n",
       "    .dataframe thead th {\n",
       "        text-align: right;\n",
       "    }\n",
       "</style>\n",
       "<table border=\"1\" class=\"dataframe\">\n",
       "  <thead>\n",
       "    <tr style=\"text-align: right;\">\n",
       "      <th></th>\n",
       "      <th>first_name</th>\n",
       "      <th>last_name</th>\n",
       "      <th>ssn</th>\n",
       "    </tr>\n",
       "  </thead>\n",
       "  <tbody>\n",
       "    <tr>\n",
       "      <th>0</th>\n",
       "      <td>Tina</td>\n",
       "      <td>Fleming</td>\n",
       "      <td>619-16-7988</td>\n",
       "    </tr>\n",
       "    <tr>\n",
       "      <th>1</th>\n",
       "      <td>Erica</td>\n",
       "      <td>Shah</td>\n",
       "      <td>164-51-7615</td>\n",
       "    </tr>\n",
       "    <tr>\n",
       "      <th>2</th>\n",
       "      <td>Paula</td>\n",
       "      <td>Ortiz</td>\n",
       "      <td>051-83-3290</td>\n",
       "    </tr>\n",
       "    <tr>\n",
       "      <th>3</th>\n",
       "      <td>James</td>\n",
       "      <td>Hendricks</td>\n",
       "      <td>776-83-2884</td>\n",
       "    </tr>\n",
       "    <tr>\n",
       "      <th>4</th>\n",
       "      <td>Lauren</td>\n",
       "      <td>King</td>\n",
       "      <td>197-94-2398</td>\n",
       "    </tr>\n",
       "  </tbody>\n",
       "</table>\n",
       "</div>"
      ],
      "text/plain": [
       "  first_name  last_name          ssn\n",
       "0       Tina    Fleming  619-16-7988\n",
       "1      Erica       Shah  164-51-7615\n",
       "2      Paula      Ortiz  051-83-3290\n",
       "3      James  Hendricks  776-83-2884\n",
       "4     Lauren       King  197-94-2398"
      ]
     },
     "execution_count": 7,
     "metadata": {},
     "output_type": "execute_result"
    }
   ],
   "source": [
    "#emp_data_df.append[email.series]\n",
    "emp_data_df.head()"
   ]
  },
  {
   "cell_type": "code",
   "execution_count": 8,
   "metadata": {},
   "outputs": [
    {
     "name": "stdout",
     "output_type": "stream",
     "text": [
      "   first_name  last_name          ssn\n",
      "0        Tina    Fleming  619-16-7988\n",
      "1       Erica       Shah  164-51-7615\n",
      "2       Paula      Ortiz  051-83-3290\n",
      "3       James  Hendricks  776-83-2884\n",
      "4      Lauren       King  197-94-2398\n",
      "5       David      Cowan  252-92-1832\n",
      "6      Andrew     Burton  296-23-6842\n",
      "7      Julian      Baker  337-40-7543\n",
      "8       Scott     Castro  399-46-5595\n",
      "9       Billy  Rodriguez  014-18-2503\n",
      "10    Darrell    Leblanc  005-82-7918\n",
      "11      David    Hammond  561-17-6312\n"
     ]
    }
   ],
   "source": [
    "emp_data_df=pd.DataFrame(emp_data_df,columns=['first_name', 'last_name', 'ssn'])\n",
    "print(emp_data_df)\n",
    "                         "
   ]
  },
  {
   "cell_type": "code",
   "execution_count": 9,
   "metadata": {},
   "outputs": [
    {
     "name": "stdout",
     "output_type": "stream",
     "text": [
      "   first_name  last_name          ssn                         email\n",
      "0        Tina    Fleming  619-16-7988     Tina.Fleming@buzzkill.com\n",
      "1       Erica       Shah  164-51-7615       Erica.Shah@buzzkill.com\n",
      "2       Paula      Ortiz  051-83-3290      Paula.Ortiz@buzzkill.com\n",
      "3       James  Hendricks  776-83-2884  James.Hendricks@buzzkill.com\n",
      "4      Lauren       King  197-94-2398      Lauren.King@buzzkill.com\n",
      "5       David      Cowan  252-92-1832      David.Cowan@buzzkill.com\n",
      "6      Andrew     Burton  296-23-6842    Andrew.Burton@buzzkill.com\n",
      "7      Julian      Baker  337-40-7543     Julian.Baker@buzzkill.com\n",
      "8       Scott     Castro  399-46-5595     Scott.Castro@buzzkill.com\n",
      "9       Billy  Rodriguez  014-18-2503  Billy.Rodriguez@buzzkill.com\n",
      "10    Darrell    Leblanc  005-82-7918  Darrell.Leblanc@buzzkill.com\n",
      "11      David    Hammond  561-17-6312    David.Hammond@buzzkill.com\n"
     ]
    }
   ],
   "source": [
    "emp_data_df['email']=email_series\n",
    "print(emp_data_df)"
   ]
  },
  {
   "cell_type": "code",
   "execution_count": null,
   "metadata": {},
   "outputs": [],
   "source": [
    "#print(organized_df)\n"
   ]
  },
  {
   "cell_type": "code",
   "execution_count": 10,
   "metadata": {},
   "outputs": [],
   "source": [
    "emp_data_df.to_csv(\"resources/emp_Data.csv\", index=False, header=True)"
   ]
  },
  {
   "cell_type": "code",
   "execution_count": null,
   "metadata": {},
   "outputs": [],
   "source": []
  },
  {
   "cell_type": "code",
   "execution_count": null,
   "metadata": {},
   "outputs": [],
   "source": []
  },
  {
   "cell_type": "code",
   "execution_count": null,
   "metadata": {},
   "outputs": [],
   "source": []
  }
 ],
 "metadata": {
  "kernelspec": {
   "display_name": "Python 3",
   "language": "python",
   "name": "python3"
  },
  "language_info": {
   "codemirror_mode": {
    "name": "ipython",
    "version": 3
   },
   "file_extension": ".py",
   "mimetype": "text/x-python",
   "name": "python",
   "nbconvert_exporter": "python",
   "pygments_lexer": "ipython3",
   "version": "3.7.3"
  }
 },
 "nbformat": 4,
 "nbformat_minor": 2
}
